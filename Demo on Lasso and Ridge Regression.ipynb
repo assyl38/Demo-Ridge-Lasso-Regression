{
 "cells": [
  {
   "cell_type": "code",
   "execution_count": 1,
   "id": "1d9867f7",
   "metadata": {},
   "outputs": [],
   "source": [
    "import pandas as pd \n",
    "import numpy as np\n",
    "import matplotlib.pyplot as plt \n",
    "from sklearn import datasets\n",
    "from sklearn.model_selection import train_test_split\n",
    "from sklearn.linear_model import LinearRegression"
   ]
  },
  {
   "cell_type": "code",
   "execution_count": 2,
   "id": "9862205e",
   "metadata": {},
   "outputs": [],
   "source": [
    "#Loading pr-defined Boston Dataset\n",
    "boston_dataset= datasets.load_boston()"
   ]
  },
  {
   "cell_type": "code",
   "execution_count": 6,
   "id": "86b6d88d",
   "metadata": {},
   "outputs": [
    {
     "data": {
      "text/html": [
       "<div>\n",
       "<style scoped>\n",
       "    .dataframe tbody tr th:only-of-type {\n",
       "        vertical-align: middle;\n",
       "    }\n",
       "\n",
       "    .dataframe tbody tr th {\n",
       "        vertical-align: top;\n",
       "    }\n",
       "\n",
       "    .dataframe thead th {\n",
       "        text-align: right;\n",
       "    }\n",
       "</style>\n",
       "<table border=\"1\" class=\"dataframe\">\n",
       "  <thead>\n",
       "    <tr style=\"text-align: right;\">\n",
       "      <th></th>\n",
       "      <th>CRIM</th>\n",
       "      <th>ZN</th>\n",
       "      <th>INDUS</th>\n",
       "      <th>CHAS</th>\n",
       "      <th>NOX</th>\n",
       "      <th>RM</th>\n",
       "      <th>AGE</th>\n",
       "      <th>DIS</th>\n",
       "      <th>RAD</th>\n",
       "      <th>TAX</th>\n",
       "      <th>PTRATIO</th>\n",
       "      <th>B</th>\n",
       "      <th>LSTAT</th>\n",
       "      <th>House Price</th>\n",
       "    </tr>\n",
       "  </thead>\n",
       "  <tbody>\n",
       "    <tr>\n",
       "      <th>0</th>\n",
       "      <td>0.00632</td>\n",
       "      <td>18.0</td>\n",
       "      <td>2.31</td>\n",
       "      <td>0.0</td>\n",
       "      <td>0.538</td>\n",
       "      <td>6.575</td>\n",
       "      <td>65.2</td>\n",
       "      <td>4.0900</td>\n",
       "      <td>1.0</td>\n",
       "      <td>296.0</td>\n",
       "      <td>15.3</td>\n",
       "      <td>396.90</td>\n",
       "      <td>4.98</td>\n",
       "      <td>24.0</td>\n",
       "    </tr>\n",
       "    <tr>\n",
       "      <th>1</th>\n",
       "      <td>0.02731</td>\n",
       "      <td>0.0</td>\n",
       "      <td>7.07</td>\n",
       "      <td>0.0</td>\n",
       "      <td>0.469</td>\n",
       "      <td>6.421</td>\n",
       "      <td>78.9</td>\n",
       "      <td>4.9671</td>\n",
       "      <td>2.0</td>\n",
       "      <td>242.0</td>\n",
       "      <td>17.8</td>\n",
       "      <td>396.90</td>\n",
       "      <td>9.14</td>\n",
       "      <td>21.6</td>\n",
       "    </tr>\n",
       "    <tr>\n",
       "      <th>2</th>\n",
       "      <td>0.02729</td>\n",
       "      <td>0.0</td>\n",
       "      <td>7.07</td>\n",
       "      <td>0.0</td>\n",
       "      <td>0.469</td>\n",
       "      <td>7.185</td>\n",
       "      <td>61.1</td>\n",
       "      <td>4.9671</td>\n",
       "      <td>2.0</td>\n",
       "      <td>242.0</td>\n",
       "      <td>17.8</td>\n",
       "      <td>392.83</td>\n",
       "      <td>4.03</td>\n",
       "      <td>34.7</td>\n",
       "    </tr>\n",
       "    <tr>\n",
       "      <th>3</th>\n",
       "      <td>0.03237</td>\n",
       "      <td>0.0</td>\n",
       "      <td>2.18</td>\n",
       "      <td>0.0</td>\n",
       "      <td>0.458</td>\n",
       "      <td>6.998</td>\n",
       "      <td>45.8</td>\n",
       "      <td>6.0622</td>\n",
       "      <td>3.0</td>\n",
       "      <td>222.0</td>\n",
       "      <td>18.7</td>\n",
       "      <td>394.63</td>\n",
       "      <td>2.94</td>\n",
       "      <td>33.4</td>\n",
       "    </tr>\n",
       "    <tr>\n",
       "      <th>4</th>\n",
       "      <td>0.06905</td>\n",
       "      <td>0.0</td>\n",
       "      <td>2.18</td>\n",
       "      <td>0.0</td>\n",
       "      <td>0.458</td>\n",
       "      <td>7.147</td>\n",
       "      <td>54.2</td>\n",
       "      <td>6.0622</td>\n",
       "      <td>3.0</td>\n",
       "      <td>222.0</td>\n",
       "      <td>18.7</td>\n",
       "      <td>396.90</td>\n",
       "      <td>5.33</td>\n",
       "      <td>36.2</td>\n",
       "    </tr>\n",
       "  </tbody>\n",
       "</table>\n",
       "</div>"
      ],
      "text/plain": [
       "      CRIM    ZN  INDUS  CHAS    NOX     RM   AGE     DIS  RAD    TAX  \\\n",
       "0  0.00632  18.0   2.31   0.0  0.538  6.575  65.2  4.0900  1.0  296.0   \n",
       "1  0.02731   0.0   7.07   0.0  0.469  6.421  78.9  4.9671  2.0  242.0   \n",
       "2  0.02729   0.0   7.07   0.0  0.469  7.185  61.1  4.9671  2.0  242.0   \n",
       "3  0.03237   0.0   2.18   0.0  0.458  6.998  45.8  6.0622  3.0  222.0   \n",
       "4  0.06905   0.0   2.18   0.0  0.458  7.147  54.2  6.0622  3.0  222.0   \n",
       "\n",
       "   PTRATIO       B  LSTAT  House Price  \n",
       "0     15.3  396.90   4.98         24.0  \n",
       "1     17.8  396.90   9.14         21.6  \n",
       "2     17.8  392.83   4.03         34.7  \n",
       "3     18.7  394.63   2.94         33.4  \n",
       "4     18.7  396.90   5.33         36.2  "
      ]
     },
     "execution_count": 6,
     "metadata": {},
     "output_type": "execute_result"
    }
   ],
   "source": [
    "#Load the dataset\n",
    "boston_pd= pd.DataFrame(boston_dataset.data) # we put the boston_dataset into our pandas dataframe\n",
    "boston_pd.columns= boston_dataset.feature_names\n",
    "boston_pd_target= np.asarray(boston_dataset.target)\n",
    "boston_pd['House Price'] = pd.Series(boston_pd_target)\n",
    "#input\n",
    "x=boston_pd.iloc[:,:-1] #all the rows without the last column \n",
    "#output\n",
    "y=boston_pd.iloc[:,-1] #all the rows and only the last column\n",
    "\n",
    "boston_pd.head()"
   ]
  },
  {
   "cell_type": "code",
   "execution_count": 10,
   "id": "69d43f92",
   "metadata": {},
   "outputs": [
    {
     "name": "stdout",
     "output_type": "stream",
     "text": [
      "Train data shape pf x=(379, 13)nd y=(379,): \n",
      "Test data shape pf x=(127, 13)nd y=(127,): \n"
     ]
    }
   ],
   "source": [
    "#Splitting the data into training data and testing data\n",
    "x_train , x_test , y_train , y_test = train_test_split(boston_pd.iloc[:,:-1],boston_pd.iloc[:,-1],\n",
    "                                                       test_size=0.25)\n",
    "print (\"Train data shape pf x=% and y=% s: \"%(x_train.shape, y_train.shape))\n",
    "print (\"Test data shape pf x=% and y=% s: \"%(x_test.shape, y_test.shape))"
   ]
  },
  {
   "cell_type": "code",
   "execution_count": 13,
   "id": "4c0da757",
   "metadata": {},
   "outputs": [
    {
     "name": "stdout",
     "output_type": "stream",
     "text": [
      "Mean Squared Error on test set : 20.206469661652438\n",
      "    Columns  Coefficient Estimate\n",
      "0      CRIM             -0.116162\n",
      "1        ZN              0.047459\n",
      "2     INDUS              0.017303\n",
      "3      CHAS              3.563503\n",
      "4       NOX            -19.773895\n",
      "5        RM              3.593873\n",
      "6       AGE              0.005344\n",
      "7       DIS             -1.669598\n",
      "8       RAD              0.296178\n",
      "9       TAX             -0.009885\n",
      "10  PTRATIO             -0.959728\n",
      "11        B              0.009005\n",
      "12    LSTAT             -0.582263\n"
     ]
    }
   ],
   "source": [
    "#Apply multiple linear regression model\n",
    "lreg=LinearRegression()\n",
    "lreg.fit(x_train , y_train)\n",
    "#Generate prediction on test set\n",
    "lreg_y_pred= lreg.predict(x_test)\n",
    "#Calculating Mean Squared Error (mse)\n",
    "mean_squared_error=np.mean((lreg_y_pred - y_test)**2)\n",
    "print(\"Mean Squared Error on test set :\" ,mean_squared_error)\n",
    "#Putting together the coefficient and their corresponding varaiables names\n",
    "lreg_coefficient = pd.DataFrame()\n",
    "lreg_coefficient[\"Columns\"]= x_train.columns\n",
    "lreg_coefficient[\"Coefficient Estimate\"]= pd.Series(lreg.coef_)\n",
    "print(lreg_coefficient)"
   ]
  },
  {
   "cell_type": "code",
   "execution_count": 16,
   "id": "b90cd81c",
   "metadata": {},
   "outputs": [
    {
     "data": {
      "image/png": "[encoded data removed]",
      "text/plain": [
       "<Figure size 1440x720 with 1 Axes>"
      ]
     },
     "metadata": {
      "needs_background": "light"
     },
     "output_type": "display_data"
    }
   ],
   "source": [
    "#Plotting the coefficient score \n",
    "fig , ax = plt.subplots(figsize=(20,10))\n",
    "color=['tab:gray','tab:blue','tab:orange',\n",
    "      'tab:green','tab:red','tab:purple','tab:brown',\n",
    "      'tab:pink','tab:gray','tab:olive','tab:cyan',\n",
    "      'tab:orange','tab:green','tab:blue','tab:olive']\n",
    "ax.bar(lreg_coefficient['Columns'], lreg_coefficient['Coefficient Estimate'],\n",
    "      color= color)\n",
    "ax.spines['bottom'].set_position('zero')\n",
    "plt.style.use('ggplot')\n",
    "plt.show()"
   ]
  },
  {
   "cell_type": "markdown",
   "id": "64d06818",
   "metadata": {},
   "source": [
    "NOX has a huge coefficient => we have to reduce the coefficient score"
   ]
  },
  {
   "cell_type": "markdown",
   "id": "bc0a6807",
   "metadata": {},
   "source": [
    "# Ridge Regression"
   ]
  },
  {
   "cell_type": "code",
   "execution_count": 17,
   "id": "56a7d22d",
   "metadata": {},
   "outputs": [
    {
     "name": "stdout",
     "output_type": "stream",
     "text": [
      "Mean Squared Error on test set 19.900373600755806\n",
      "    Columns  Coefficient Estimate\n",
      "0      CRIM             -0.111218\n",
      "1        ZN              0.047358\n",
      "2     INDUS             -0.022649\n",
      "3      CHAS              3.334143\n",
      "4       NOX            -10.588923\n",
      "5        RM              3.723302\n",
      "6       AGE             -0.002861\n",
      "7       DIS             -1.508210\n",
      "8       RAD              0.274390\n",
      "9       TAX             -0.010460\n",
      "10  PTRATIO             -0.847183\n",
      "11        B              0.009842\n",
      "12    LSTAT             -0.592150\n"
     ]
    }
   ],
   "source": [
    "#Import ridge regression from sklearn library\n",
    "from sklearn.linear_model import Ridge\n",
    "\n",
    "#Train the model\n",
    "ridgeR= Ridge(alpha=1)\n",
    "ridgeR.fit(x_train,y_train)\n",
    "y_pred=ridgeR.predict(x_test)\n",
    "#Calculating Mean Squared Error (mse)\n",
    "mean_squared_error_ridge=np.mean((y_pred - y_test)**2)\n",
    "print(\"Mean Squared Error on test set\", mean_squared_error_ridge)\n",
    "#get ridge coefficient and print them\n",
    "ridge_coefficient = pd.DataFrame()\n",
    "ridge_coefficient['Columns']=x_train.columns\n",
    "ridge_coefficient[\"Coefficient Estimate\"]= pd.Series(ridgeR.coef_)\n",
    "print(ridge_coefficient)\n"
   ]
  },
  {
   "cell_type": "code",
   "execution_count": 18,
   "id": "7776eae9",
   "metadata": {
    "scrolled": true
   },
   "outputs": [
    {
     "data": {
      "image/png": "[encoded data removed]",
      "text/plain": [
       "<Figure size 1440x720 with 1 Axes>"
      ]
     },
     "metadata": {},
     "output_type": "display_data"
    }
   ],
   "source": [
    "#Plotting the reduced coefficient score \n",
    "fig , ax = plt.subplots(figsize=(20,10))\n",
    "color=['tab:gray','tab:blue','tab:orange',\n",
    "      'tab:green','tab:red','tab:purple','tab:brown',\n",
    "      'tab:pink','tab:gray','tab:olive','tab:cyan',\n",
    "      'tab:orange','tab:green','tab:blue','tab:olive']\n",
    "ax.bar(ridge_coefficient['Columns'], ridge_coefficient['Coefficient Estimate'],\n",
    "      color= color)\n",
    "ax.spines['bottom'].set_position('zero')\n",
    "plt.style.use('ggplot')\n",
    "plt.show()"
   ]
  },
  {
   "cell_type": "markdown",
   "id": "35cbd040",
   "metadata": {},
   "source": [
    "The values now are almost half the values in the graph shown earlier"
   ]
  },
  {
   "cell_type": "markdown",
   "id": "64c63684",
   "metadata": {},
   "source": [
    "# Lasso Regression"
   ]
  },
  {
   "cell_type": "code",
   "execution_count": 19,
   "id": "321f7b1e",
   "metadata": {},
   "outputs": [
    {
     "name": "stdout",
     "output_type": "stream",
     "text": [
      "Mean Squared Error on test set 23.738876912667514\n",
      "    Columns  Coefficient Estimate\n",
      "0      CRIM             -0.061964\n",
      "1        ZN              0.042316\n",
      "2     INDUS             -0.000000\n",
      "3      CHAS              0.000000\n",
      "4       NOX             -0.000000\n",
      "5        RM              0.805702\n",
      "6       AGE              0.026314\n",
      "7       DIS             -0.630091\n",
      "8       RAD              0.235797\n",
      "9       TAX             -0.012353\n",
      "10  PTRATIO             -0.681871\n",
      "11        B              0.007787\n",
      "12    LSTAT             -0.815863\n"
     ]
    }
   ],
   "source": [
    "#Import Lasso regression from sklearn library\n",
    "from sklearn.linear_model import Lasso\n",
    "\n",
    "#Train the model\n",
    "lasso= Lasso(alpha=1)\n",
    "lasso.fit(x_train,y_train)\n",
    "y_pred1=lasso.predict(x_test)\n",
    "#Calculating Mean Squared Error (mse)\n",
    "mean_squared_error_ridge=np.mean((y_pred1 - y_test)**2)\n",
    "print(\"Mean Squared Error on test set\", mean_squared_error_ridge)\n",
    "#get ridge coefficient and print them\n",
    "lasso_coefficient = pd.DataFrame()\n",
    "lasso_coefficient['Columns']=x_train.columns\n",
    "lasso_coefficient[\"Coefficient Estimate\"]= pd.Series(lasso.coef_)\n",
    "print(lasso_coefficient)\n"
   ]
  },
  {
   "cell_type": "code",
   "execution_count": 20,
   "id": "0f9d23a3",
   "metadata": {},
   "outputs": [
    {
     "data": {
      "image/png": "[encoded data removed]",
      "text/plain": [
       "<Figure size 1440x720 with 1 Axes>"
      ]
     },
     "metadata": {},
     "output_type": "display_data"
    }
   ],
   "source": [
    "#Plotting the reduced coefficient score \n",
    "fig , ax = plt.subplots(figsize=(20,10))\n",
    "color=['tab:gray','tab:blue','tab:orange',\n",
    "      'tab:green','tab:red','tab:purple','tab:brown',\n",
    "      'tab:pink','tab:gray','tab:olive','tab:cyan',\n",
    "      'tab:orange','tab:green','tab:blue','tab:olive']\n",
    "ax.bar(lasso_coefficient['Columns'], lasso_coefficient['Coefficient Estimate'],\n",
    "      color= color)\n",
    "ax.spines['bottom'].set_position('zero')\n",
    "plt.style.use('ggplot')\n",
    "plt.show()"
   ]
  },
  {
   "cell_type": "code",
   "execution_count": null,
   "id": "8ba1f0bb",
   "metadata": {},
   "outputs": [],
   "source": []
  }
 ],
 "metadata": {
  "kernelspec": {
   "display_name": "Python 3 (ipykernel)",
   "language": "python",
   "name": "python3"
  },
  "language_info": {
   "codemirror_mode": {
    "name": "ipython",
    "version": 3
   },
   "file_extension": ".py",
   "mimetype": "text/x-python",
   "name": "python",
   "nbconvert_exporter": "python",
   "pygments_lexer": "ipython3",
   "version": "3.9.7"
  }
 },
 "nbformat": 4,
 "nbformat_minor": 5
}
